{
 "cells": [
  {
   "cell_type": "code",
   "execution_count": null,
   "metadata": {},
   "outputs": [],
   "source": [
    "from ib_client import ib_client\n",
    "\n",
    "item = ib_client()\n",
    "\n",
    "item.close_loop()"
   ]
  },
  {
   "cell_type": "code",
   "execution_count": 13,
   "metadata": {},
   "outputs": [],
   "source": [
    "option_data = {\"aapl\":{\"call\":[{\"date\":\"201\",\"bid\":1},{\"date\":\"202\",\"bid\":2.5}]}}"
   ]
  },
  {
   "cell_type": "code",
   "execution_count": 15,
   "metadata": {},
   "outputs": [
    {
     "ename": "AttributeError",
     "evalue": "'list' object has no attribute 'values'",
     "output_type": "error",
     "traceback": [
      "\u001b[0;31m---------------------------------------------------------------------------\u001b[0m",
      "\u001b[0;31mAttributeError\u001b[0m                            Traceback (most recent call last)",
      "Cell \u001b[0;32mIn[15], line 1\u001b[0m\n\u001b[0;32m----> 1\u001b[0m \u001b[43moption_data\u001b[49m\u001b[43m[\u001b[49m\u001b[38;5;124;43m\"\u001b[39;49m\u001b[38;5;124;43maapl\u001b[39;49m\u001b[38;5;124;43m\"\u001b[39;49m\u001b[43m]\u001b[49m\u001b[43m[\u001b[49m\u001b[38;5;124;43m\"\u001b[39;49m\u001b[38;5;124;43mcall\u001b[39;49m\u001b[38;5;124;43m\"\u001b[39;49m\u001b[43m]\u001b[49m\u001b[38;5;241;43m.\u001b[39;49m\u001b[43mvalues\u001b[49m()\n",
      "\u001b[0;31mAttributeError\u001b[0m: 'list' object has no attribute 'values'"
     ]
    }
   ],
   "source": [
    "option_data[\"aapl\"][\"call\"]"
   ]
  },
  {
   "cell_type": "code",
   "execution_count": 17,
   "metadata": {},
   "outputs": [
    {
     "name": "stdout",
     "output_type": "stream",
     "text": [
      "     item1  item2\n",
      "bid      2      3\n"
     ]
    }
   ],
   "source": [
    "import pandas as pd\n",
    "\n",
    "data = {\"item1\":{\"bid\":2}, \"item2\":{\"bid\":3}}\n",
    "\n",
    "df = pd.DataFrame(data)\n",
    "print(df)\n"
   ]
  },
  {
   "cell_type": "code",
   "execution_count": 29,
   "metadata": {},
   "outputs": [
    {
     "data": {
      "text/html": [
       "<div>\n",
       "<style scoped>\n",
       "    .dataframe tbody tr th:only-of-type {\n",
       "        vertical-align: middle;\n",
       "    }\n",
       "\n",
       "    .dataframe tbody tr th {\n",
       "        vertical-align: top;\n",
       "    }\n",
       "\n",
       "    .dataframe thead th {\n",
       "        text-align: right;\n",
       "    }\n",
       "</style>\n",
       "<table border=\"1\" class=\"dataframe\">\n",
       "  <thead>\n",
       "    <tr style=\"text-align: right;\">\n",
       "      <th></th>\n",
       "      <th></th>\n",
       "      <th>bid</th>\n",
       "    </tr>\n",
       "    <tr>\n",
       "      <th>company</th>\n",
       "      <th>item</th>\n",
       "      <th></th>\n",
       "    </tr>\n",
       "  </thead>\n",
       "  <tbody>\n",
       "    <tr>\n",
       "      <th rowspan=\"2\" valign=\"top\">aapl</th>\n",
       "      <th>item1</th>\n",
       "      <td>2</td>\n",
       "    </tr>\n",
       "    <tr>\n",
       "      <th>item2</th>\n",
       "      <td>3</td>\n",
       "    </tr>\n",
       "    <tr>\n",
       "      <th rowspan=\"2\" valign=\"top\">amz</th>\n",
       "      <th>item3</th>\n",
       "      <td>7</td>\n",
       "    </tr>\n",
       "    <tr>\n",
       "      <th>item5</th>\n",
       "      <td>8</td>\n",
       "    </tr>\n",
       "  </tbody>\n",
       "</table>\n",
       "</div>"
      ],
      "text/plain": [
       "               bid\n",
       "company item      \n",
       "aapl    item1    2\n",
       "        item2    3\n",
       "amz     item3    7\n",
       "        item5    8"
      ]
     },
     "execution_count": 29,
     "metadata": {},
     "output_type": "execute_result"
    }
   ],
   "source": [
    "import pandas as pd\n",
    "\n",
    "data = {\n",
    "    \"aapl\": {\"item1\": {\"bid\": 2}, \"item2\": {\"bid\": 3}},\n",
    "    \"amz\": {\"item3\": {\"bid\": 7}, \"item5\": {\"bid\": 8}},\n",
    "}\n",
    "\n",
    "# Flatten the nested dictionary\n",
    "flat_data = {}\n",
    "for key, value in data.items():\n",
    "    for subkey, subvalue in value.items():\n",
    "        flat_data[(key, subkey)] = subvalue[\"bid\"]\n",
    "\n",
    "# Convert to DataFrame\n",
    "df = pd.DataFrame(flat_data.values(), index=pd.MultiIndex.from_tuples(flat_data.keys(), names=[\"company\", \"item\"]), columns=[\"bid\"])\n",
    "\n",
    "df"
   ]
  },
  {
   "cell_type": "code",
   "execution_count": 32,
   "metadata": {},
   "outputs": [
    {
     "name": "stdout",
     "output_type": "stream",
     "text": [
      "  company   item  bid\n",
      "0    aapl  item1    2\n",
      "1    aapl  item2    3\n",
      "2     amz  item3    7\n",
      "3     amz  item5    8\n"
     ]
    }
   ],
   "source": [
    "import pandas as pd\n",
    "\n",
    "data = {\n",
    "    \"aapl\": {\"item1\": {\"bid\": 2}, \"item2\": {\"bid\": 3}},\n",
    "    \"amz\": {\"item3\": {\"bid\": 7}, \"item5\": {\"bid\": 8}},\n",
    "}\n",
    "\n",
    "dfs = []\n",
    "\n",
    "for company, items in data.items():\n",
    "    for item, values in items.items():\n",
    "        dfs.append(pd.DataFrame({\"company\": [company], \"item\": [item], \"bid\": [values[\"bid\"]]}))\n",
    "\n",
    "df = pd.concat(dfs, ignore_index=True)\n",
    "\n",
    "print(df)\n",
    "\n"
   ]
  },
  {
   "cell_type": "code",
   "execution_count": 33,
   "metadata": {},
   "outputs": [
    {
     "name": "stdout",
     "output_type": "stream",
     "text": [
      "  company   item  bid  ask\n",
      "0    aapl  item1    2    1\n",
      "1    aapl  item2    3    1\n",
      "2     amz  item3    7    1\n",
      "3     amz  item5    8    1\n"
     ]
    }
   ],
   "source": [
    "import pandas as pd\n",
    "\n",
    "data = {\n",
    "    \"aapl\": {\"item1\": {\"bid\": 2, \"ask\": 1}, \"item2\": {\"bid\": 3, \"ask\": 1}},\n",
    "    \"amz\": {\"item3\": {\"bid\": 7, \"ask\": 1}, \"item5\": {\"bid\": 8, \"ask\": 1}},\n",
    "}\n",
    "\n",
    "# Create a list of dictionaries\n",
    "dict_list = [\n",
    "    {\"company\": company, \"item\": item, \"bid\": values[\"bid\"], \"ask\": values[\"ask\"]}\n",
    "    for company, items in data.items()\n",
    "    for item, values in items.items()\n",
    "]\n",
    "\n",
    "# Convert the list of dictionaries into a DataFrame\n",
    "df = pd.DataFrame(dict_list)\n",
    "\n",
    "print(df)\n"
   ]
  },
  {
   "cell_type": "code",
   "execution_count": null,
   "metadata": {},
   "outputs": [],
   "source": []
  }
 ],
 "metadata": {
  "kernelspec": {
   "display_name": ".venv",
   "language": "python",
   "name": "python3"
  },
  "language_info": {
   "codemirror_mode": {
    "name": "ipython",
    "version": 3
   },
   "file_extension": ".py",
   "mimetype": "text/x-python",
   "name": "python",
   "nbconvert_exporter": "python",
   "pygments_lexer": "ipython3",
   "version": "3.12.1"
  }
 },
 "nbformat": 4,
 "nbformat_minor": 2
}
