{
 "cells": [
  {
   "cell_type": "code",
   "execution_count": null,
   "metadata": {},
   "outputs": [],
   "source": [
    "from ib_client import ib_client\n",
    "\n",
    "item = ib_client()\n",
    "\n",
    "item.close_loop()"
   ]
  },
  {
   "cell_type": "code",
   "execution_count": 13,
   "metadata": {},
   "outputs": [],
   "source": [
    "option_data = {\"aapl\":{\"call\":[{\"date\":\"201\",\"bid\":1},{\"date\":\"202\",\"bid\":2.5}]}}"
   ]
  },
  {
   "cell_type": "code",
   "execution_count": 4,
   "metadata": {},
   "outputs": [
    {
     "name": "stdout",
     "output_type": "stream",
     "text": [
      "{'a': 'test'}\n"
     ]
    }
   ],
   "source": [
    "a = {\"a\" : \"test\"}\n",
    "c ={}\n",
    "for a, b in a.items():\n",
    "    c[a] = b\n",
    "\n",
    "print(c)"
   ]
  },
  {
   "cell_type": "code",
   "execution_count": 38,
   "metadata": {},
   "outputs": [
    {
     "name": "stdout",
     "output_type": "stream",
     "text": [
      "202404 202409\n"
     ]
    }
   ],
   "source": [
    "from datetime import datetime\n",
    "from dateutil.relativedelta import relativedelta\n",
    "\n",
    "# Get the current date\n",
    "current_date = datetime.now()\n",
    "\n",
    "# Add 8 months to the current date\n",
    "future_date = current_date + relativedelta(months=8)\n",
    "\n",
    "# print(\"Current date:\", current_date)\n",
    "# print(\"Future date:\", future_date)\n",
    "current_date = datetime.today() \n",
    "future_date = current_date + relativedelta(months=5)\n",
    "current_date = current_date.strftime(\"%Y%m\")\n",
    "future_date = future_date.strftime(\"%Y%m\")\n",
    "print(current_date, future_date)\n",
    "a = {'AAPL': {'expirations': ['20240405', '20240412', '20240419', '20240426', '20240503', '20240510', '20240517', '20240621', '20240719', '20240816', '20240920', '20241018', '20241115', '20241220', '20250117', '20250321', '20250620', '20250919', '20251219', '20260116', '20260618', '20261218'], 'strikes': [5.0, 10.0, 15.0, 20.0, 25.0, 30.0, 35.0, 40.0, 45.0, 50.0, 55.0, 60.0, 65.0, 70.0, 75.0, 80.0, 85.0, 90.0, 95.0, 100.0, 105.0, 110.0, 115.0, 120.0, 125.0, 130.0, 135.0, 140.0, 144.0, 145.0, 146.0, 147.0, 148.0, 149.0, 150.0, 152.5, 155.0, 157.5, 160.0, 162.5, 165.0, 167.5, 170.0, 172.5, 175.0, 177.5, 180.0, 182.5, 185.0, 187.5, 190.0, 192.5, 195.0, 197.5, 200.0, 202.5, 205.0, 207.5, 210.0, 215.0, 220.0, 225.0, 230.0, 235.0, 240.0, 245.0, 250.0, 255.0, 260.0, 265.0, 270.0, 275.0, 280.0, 285.0, 290.0, 295.0, 300.0, 305.0, 310.0, 320.0, 330.0, 340.0, 350.0, 360.0, 370.0, 380.0]}}\n",
    "filtered_chain = [_ for _ in a[\"AAPL\"][\"expirations\"] if current_date <= _ <= future_date]"
   ]
  },
  {
   "cell_type": "code",
   "execution_count": 42,
   "metadata": {},
   "outputs": [
    {
     "data": {
      "text/plain": [
       "{'AAPL': {'expirations': ['20240405',\n",
       "   '20240412',\n",
       "   '20240419',\n",
       "   '20240426',\n",
       "   '20240503',\n",
       "   '20240510',\n",
       "   '20240517',\n",
       "   '20240621'],\n",
       "  'strikes': [135.0,\n",
       "   140.0,\n",
       "   144.0,\n",
       "   145.0,\n",
       "   146.0,\n",
       "   147.0,\n",
       "   148.0,\n",
       "   149.0,\n",
       "   150.0,\n",
       "   152.5]}}"
      ]
     },
     "execution_count": 42,
     "metadata": {},
     "output_type": "execute_result"
    }
   ],
   "source": [
    "filtered_chain = a.copy()\n",
    "current_date = datetime.today() \n",
    "future_date = current_date + relativedelta(months=3)\n",
    "current_date = current_date.strftime(\"%Y%m\")\n",
    "future_date = future_date.strftime(\"%Y%m\")\n",
    "price = 150.00\n",
    "lower_strike, upper_strike = price*.9,price*1.025\n",
    "filtered_chain[\"AAPL\"][\"expirations\"] = [_ for _ in filtered_chain[\"AAPL\"][\"expirations\"] if current_date <= _ <= future_date]\n",
    "filtered_chain[\"AAPL\"][\"strikes\"]= [_ for _ in filtered_chain[\"AAPL\"][\"strikes\"] if lower_strike <= _ <= upper_strike]\n",
    "filtered_chain\n"
   ]
  },
  {
   "cell_type": "code",
   "execution_count": null,
   "metadata": {},
   "outputs": [],
   "source": []
  },
  {
   "cell_type": "code",
   "execution_count": 29,
   "metadata": {},
   "outputs": [
    {
     "data": {
      "text/html": [
       "<div>\n",
       "<style scoped>\n",
       "    .dataframe tbody tr th:only-of-type {\n",
       "        vertical-align: middle;\n",
       "    }\n",
       "\n",
       "    .dataframe tbody tr th {\n",
       "        vertical-align: top;\n",
       "    }\n",
       "\n",
       "    .dataframe thead th {\n",
       "        text-align: right;\n",
       "    }\n",
       "</style>\n",
       "<table border=\"1\" class=\"dataframe\">\n",
       "  <thead>\n",
       "    <tr style=\"text-align: right;\">\n",
       "      <th></th>\n",
       "      <th></th>\n",
       "      <th>bid</th>\n",
       "    </tr>\n",
       "    <tr>\n",
       "      <th>company</th>\n",
       "      <th>item</th>\n",
       "      <th></th>\n",
       "    </tr>\n",
       "  </thead>\n",
       "  <tbody>\n",
       "    <tr>\n",
       "      <th rowspan=\"2\" valign=\"top\">aapl</th>\n",
       "      <th>item1</th>\n",
       "      <td>2</td>\n",
       "    </tr>\n",
       "    <tr>\n",
       "      <th>item2</th>\n",
       "      <td>3</td>\n",
       "    </tr>\n",
       "    <tr>\n",
       "      <th rowspan=\"2\" valign=\"top\">amz</th>\n",
       "      <th>item3</th>\n",
       "      <td>7</td>\n",
       "    </tr>\n",
       "    <tr>\n",
       "      <th>item5</th>\n",
       "      <td>8</td>\n",
       "    </tr>\n",
       "  </tbody>\n",
       "</table>\n",
       "</div>"
      ],
      "text/plain": [
       "               bid\n",
       "company item      \n",
       "aapl    item1    2\n",
       "        item2    3\n",
       "amz     item3    7\n",
       "        item5    8"
      ]
     },
     "execution_count": 29,
     "metadata": {},
     "output_type": "execute_result"
    }
   ],
   "source": [
    "import pandas as pd\n",
    "\n",
    "data = {\n",
    "    \"aapl\": {\"item1\": {\"bid\": 2}, \"item2\": {\"bid\": 3}},\n",
    "    \"amz\": {\"item3\": {\"bid\": 7}, \"item5\": {\"bid\": 8}},\n",
    "}\n",
    "\n",
    "# Flatten the nested dictionary\n",
    "flat_data = {}\n",
    "for key, value in data.items():\n",
    "    for subkey, subvalue in value.items():\n",
    "        flat_data[(key, subkey)] = subvalue[\"bid\"]\n",
    "\n",
    "# Convert to DataFrame\n",
    "df = pd.DataFrame(flat_data.values(), index=pd.MultiIndex.from_tuples(flat_data.keys(), names=[\"company\", \"item\"]), columns=[\"bid\"])\n",
    "\n",
    "df"
   ]
  },
  {
   "cell_type": "code",
   "execution_count": 32,
   "metadata": {},
   "outputs": [
    {
     "name": "stdout",
     "output_type": "stream",
     "text": [
      "  company   item  bid\n",
      "0    aapl  item1    2\n",
      "1    aapl  item2    3\n",
      "2     amz  item3    7\n",
      "3     amz  item5    8\n"
     ]
    }
   ],
   "source": [
    "import pandas as pd\n",
    "\n",
    "data = {\n",
    "    \"aapl\": {\"item1\": {\"bid\": 2}, \"item2\": {\"bid\": 3}},\n",
    "    \"amz\": {\"item3\": {\"bid\": 7}, \"item5\": {\"bid\": 8}},\n",
    "}\n",
    "\n",
    "dfs = []\n",
    "\n",
    "for company, items in data.items():\n",
    "    for item, values in items.items():\n",
    "        dfs.append(pd.DataFrame({\"company\": [company], \"item\": [item], \"bid\": [values[\"bid\"]]}))\n",
    "\n",
    "df = pd.concat(dfs, ignore_index=True)\n",
    "\n",
    "print(df)\n",
    "\n"
   ]
  },
  {
   "cell_type": "code",
   "execution_count": 33,
   "metadata": {},
   "outputs": [
    {
     "name": "stdout",
     "output_type": "stream",
     "text": [
      "  company   item  bid  ask\n",
      "0    aapl  item1    2    1\n",
      "1    aapl  item2    3    1\n",
      "2     amz  item3    7    1\n",
      "3     amz  item5    8    1\n"
     ]
    }
   ],
   "source": [
    "import pandas as pd\n",
    "\n",
    "data = {\n",
    "    \"aapl\": {\"item1\": {\"bid\": 2, \"ask\": 1}, \"item2\": {\"bid\": 3, \"ask\": 1}},\n",
    "    \"amz\": {\"item3\": {\"bid\": 7, \"ask\": 1}, \"item5\": {\"bid\": 8, \"ask\": 1}},\n",
    "}\n",
    "\n",
    "# Create a list of dictionaries\n",
    "dict_list = [\n",
    "    {\"company\": company, \"item\": item, \"bid\": values[\"bid\"], \"ask\": values[\"ask\"]}\n",
    "    for company, items in data.items()\n",
    "    for item, values in items.items()\n",
    "]\n",
    "\n",
    "# Convert the list of dictionaries into a DataFrame\n",
    "df = pd.DataFrame(dict_list)\n",
    "\n",
    "print(df)\n"
   ]
  },
  {
   "cell_type": "code",
   "execution_count": null,
   "metadata": {},
   "outputs": [],
   "source": []
  }
 ],
 "metadata": {
  "kernelspec": {
   "display_name": ".venv",
   "language": "python",
   "name": "python3"
  },
  "language_info": {
   "codemirror_mode": {
    "name": "ipython",
    "version": 3
   },
   "file_extension": ".py",
   "mimetype": "text/x-python",
   "name": "python",
   "nbconvert_exporter": "python",
   "pygments_lexer": "ipython3",
   "version": "3.12.1"
  }
 },
 "nbformat": 4,
 "nbformat_minor": 2
}
