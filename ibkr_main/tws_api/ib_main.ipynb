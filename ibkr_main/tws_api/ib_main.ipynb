{
 "cells": [
  {
   "cell_type": "code",
   "execution_count": 1,
   "metadata": {},
   "outputs": [
    {
     "name": "stdout",
     "output_type": "stream",
     "text": [
      "Error -1 2104 Market data farm connection is OK:usfarm.nj\n",
      "Error -1 2104 Market data farm connection is OK:cashfarm\n",
      "Error -1 2104 Market data farm connection is OK:usopt\n",
      "Error -1 2104 Market data farm connection is OK:usfarm\n",
      "Error -1 2106 HMDS data farm connection is OK:ushmds\n",
      "Error -1 2158 Sec-def data farm connection is OK:secdefil\n",
      "Connection Starts\n",
      "Connection Stops\n"
     ]
    },
    {
     "name": "stdout",
     "output_type": "stream",
     "text": [
      "Error -1 1100 Connectivity between IB and Trader Workstation has been lost.\n",
      "Error -1 1100 Connectivity between IB and Trader Workstation has been lost.\n",
      "Error -1 1100 Connectivity between IB and Trader Workstation has been lost.\n",
      "Error -1 1100 Connectivity between IB and Trader Workstation has been lost.\n",
      "Error -1 1100 Connectivity between IB and Trader Workstation has been lost.\n",
      "Error -1 1100 Connectivity between IB and Trader Workstation has been lost.\n",
      "Error -1 1100 Connectivity between IB and Trader Workstation has been lost.\n",
      "Error -1 1100 Connectivity between IB and Trader Workstation has been lost.\n",
      "Error -1 1100 Connectivity between IB and Trader Workstation has been lost.\n",
      "Error -1 1100 Connectivity between IB and Trader Workstation has been lost.\n",
      "Error -1 1102 Connectivity between IB and Trader Workstation has been restored - data maintained. All data farms are connected: usfarm.nj; cashfarm; usopt; usfarm; ushmds; secdefil.\n",
      "Error -1 2103 Market data farm connection is broken:usfarm\n",
      "Error -1 2105 HMDS data farm connection is broken:ushmds\n",
      "Error -1 2157 Sec-def data farm connection is broken:secdefil\n",
      "Error -1 2103 Market data farm connection is broken:usfarm.nj\n",
      "Error -1 2103 Market data farm connection is broken:cashfarm\n",
      "Error -1 2103 Market data farm connection is broken:usopt\n",
      "Error -1 2108 Market data farm connection is inactive but should be available upon demand.usopt\n",
      "Error -1 2103 Market data farm connection is broken:usfarm\n",
      "Error -1 2105 HMDS data farm connection is broken:ushmds\n",
      "Error -1 2157 Sec-def data farm connection is broken:secdefil\n",
      "Error -1 2103 Market data farm connection is broken:usfarm.nj\n",
      "Error -1 2103 Market data farm connection is broken:cashfarm\n",
      "Error -1 2103 Market data farm connection is broken:usfarm\n",
      "Error -1 2157 Sec-def data farm connection is broken:secdefil\n",
      "Error -1 2105 HMDS data farm connection is broken:ushmds\n",
      "Error -1 2103 Market data farm connection is broken:usfarm.nj\n",
      "Error -1 2103 Market data farm connection is broken:cashfarm\n",
      "Error -1 2103 Market data farm connection is broken:usfarm\n",
      "Error -1 2105 HMDS data farm connection is broken:ushmds\n",
      "Error -1 2157 Sec-def data farm connection is broken:secdefil\n",
      "Error -1 2103 Market data farm connection is broken:usfarm.nj\n",
      "Error -1 2103 Market data farm connection is broken:cashfarm\n",
      "Error -1 2103 Market data farm connection is broken:usfarm\n",
      "Error -1 2157 Sec-def data farm connection is broken:secdefil\n",
      "Error -1 2105 HMDS data farm connection is broken:ushmds\n",
      "Error -1 2103 Market data farm connection is broken:usfarm.nj\n",
      "Error -1 2103 Market data farm connection is broken:cashfarm\n",
      "Error -1 2103 Market data farm connection is broken:usfarm\n",
      "Error -1 1100 Connectivity between IB and Trader Workstation has been lost.\n",
      "Error -1 2103 Market data farm connection is broken:usfarm\n",
      "Error -1 2157 Sec-def data farm connection is broken:secdefil\n",
      "Error -1 2105 HMDS data farm connection is broken:ushmds\n",
      "Error -1 2103 Market data farm connection is broken:usfarm.nj\n",
      "Error -1 2103 Market data farm connection is broken:cashfarm\n",
      "Error -1 2104 Market data farm connection is OK:usfarm\n",
      "Error -1 2106 HMDS data farm connection is OK:ushmds\n",
      "Error -1 2158 Sec-def data farm connection is OK:secdefil\n",
      "Error -1 2104 Market data farm connection is OK:cashfarm\n",
      "Error -1 2104 Market data farm connection is OK:usfarm.nj\n",
      "Error -1 1102 Connectivity between IB and Trader Workstation has been restored - data maintained. All data farms are connected: usfarm.nj; cashfarm; usfarm; ushmds; secdefil.\n",
      "Error -1 2104 Market data farm connection is OK:usopt\n",
      "Error -1 2103 Market data farm connection is broken:cashfarm\n",
      "Error -1 2104 Market data farm connection is OK:cashfarm\n",
      "Error -1 2103 Market data farm connection is broken:usfarm.nj\n",
      "Error -1 2104 Market data farm connection is OK:usfarm.nj\n",
      "Connection Starts\n"
     ]
    }
   ],
   "source": [
    "from ib_client import ib_client\n",
    "\n",
    "item = ib_client()\n",
    "\n",
    "item.close_loop()"
   ]
  },
  {
   "cell_type": "code",
   "execution_count": null,
   "metadata": {},
   "outputs": [],
   "source": []
  }
 ],
 "metadata": {
  "kernelspec": {
   "display_name": ".venv",
   "language": "python",
   "name": "python3"
  },
  "language_info": {
   "codemirror_mode": {
    "name": "ipython",
    "version": 3
   },
   "file_extension": ".py",
   "mimetype": "text/x-python",
   "name": "python",
   "nbconvert_exporter": "python",
   "pygments_lexer": "ipython3",
   "version": "3.12.1"
  }
 },
 "nbformat": 4,
 "nbformat_minor": 2
}
