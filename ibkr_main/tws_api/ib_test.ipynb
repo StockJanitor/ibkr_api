{
 "cells": [
  {
   "cell_type": "code",
   "execution_count": null,
   "metadata": {},
   "outputs": [],
   "source": [
    "from ib_client import ib_client\n",
    "\n",
    "item = ib_client()\n",
    "\n",
    "item.close_loop()"
   ]
  },
  {
   "cell_type": "code",
   "execution_count": 5,
   "metadata": {},
   "outputs": [
    {
     "ename": "TypeError",
     "evalue": "'dict_values' object is not subscriptable",
     "output_type": "error",
     "traceback": [
      "\u001b[0;31m---------------------------------------------------------------------------\u001b[0m",
      "\u001b[0;31mTypeError\u001b[0m                                 Traceback (most recent call last)",
      "Cell \u001b[0;32mIn[5], line 3\u001b[0m\n\u001b[1;32m      1\u001b[0m a \u001b[38;5;241m=\u001b[39m {\u001b[38;5;241m0\u001b[39m: {\u001b[38;5;124m'\u001b[39m\u001b[38;5;124mticker\u001b[39m\u001b[38;5;124m'\u001b[39m: \u001b[38;5;124m'\u001b[39m\u001b[38;5;124mROOT\u001b[39m\u001b[38;5;124m'\u001b[39m}}\n\u001b[1;32m      2\u001b[0m a[\u001b[38;5;241m0\u001b[39m][\u001b[38;5;124m\"\u001b[39m\u001b[38;5;124mstock_data\u001b[39m\u001b[38;5;124m\"\u001b[39m] \u001b[38;5;241m=\u001b[39m \u001b[38;5;241m1\u001b[39m\n\u001b[0;32m----> 3\u001b[0m \u001b[43ma\u001b[49m\u001b[38;5;241;43m.\u001b[39;49m\u001b[43mvalues\u001b[49m\u001b[43m(\u001b[49m\u001b[43m)\u001b[49m\u001b[43m[\u001b[49m\u001b[38;5;124;43m\"\u001b[39;49m\u001b[38;5;124;43mticker\u001b[39;49m\u001b[38;5;124;43m\"\u001b[39;49m\u001b[43m]\u001b[49m\n",
      "\u001b[0;31mTypeError\u001b[0m: 'dict_values' object is not subscriptable"
     ]
    }
   ],
   "source": [
    "a = {0: {'ticker': 'ROOT'}}\n",
    "a[0][\"stock_data\"] = 1\n",
    "a.values()[\"ticker\"]"
   ]
  },
  {
   "cell_type": "code",
   "execution_count": 32,
   "metadata": {},
   "outputs": [
    {
     "name": "stdout",
     "output_type": "stream",
     "text": [
      "  company   item  bid\n",
      "0    aapl  item1    2\n",
      "1    aapl  item2    3\n",
      "2     amz  item3    7\n",
      "3     amz  item5    8\n"
     ]
    }
   ],
   "source": [
    "import pandas as pd\n",
    "\n",
    "data = {\n",
    "    \"aapl\": {\"item1\": {\"bid\": 2}, \"item2\": {\"bid\": 3}},\n",
    "    \"amz\": {\"item3\": {\"bid\": 7}, \"item5\": {\"bid\": 8}},\n",
    "}\n",
    "\n",
    "dfs = []\n",
    "\n",
    "for company, items in data.items():\n",
    "    for item, values in items.items():\n",
    "        dfs.append(pd.DataFrame({\"company\": [company], \"item\": [item], \"bid\": [values[\"bid\"]]}))\n",
    "\n",
    "df = pd.concat(dfs, ignore_index=True)\n",
    "\n",
    "print(df)\n",
    "\n"
   ]
  },
  {
   "cell_type": "code",
   "execution_count": 33,
   "metadata": {},
   "outputs": [
    {
     "name": "stdout",
     "output_type": "stream",
     "text": [
      "  company   item  bid  ask\n",
      "0    aapl  item1    2    1\n",
      "1    aapl  item2    3    1\n",
      "2     amz  item3    7    1\n",
      "3     amz  item5    8    1\n"
     ]
    }
   ],
   "source": [
    "import pandas as pd\n",
    "\n",
    "data = {\n",
    "    \"aapl\": {\"item1\": {\"bid\": 2, \"ask\": 1}, \"item2\": {\"bid\": 3, \"ask\": 1}},\n",
    "    \"amz\": {\"item3\": {\"bid\": 7, \"ask\": 1}, \"item5\": {\"bid\": 8, \"ask\": 1}},\n",
    "}\n",
    "\n",
    "# Create a list of dictionaries\n",
    "dict_list = [\n",
    "    {\"company\": company, \"item\": item, \"bid\": values[\"bid\"], \"ask\": values[\"ask\"]}\n",
    "    for company, items in data.items()\n",
    "    for item, values in items.items()\n",
    "]\n",
    "\n",
    "# Convert the list of dictionaries into a DataFrame\n",
    "df = pd.DataFrame(dict_list)\n",
    "\n",
    "print(df)\n"
   ]
  },
  {
   "cell_type": "code",
   "execution_count": null,
   "metadata": {},
   "outputs": [],
   "source": []
  }
 ],
 "metadata": {
  "kernelspec": {
   "display_name": ".venv",
   "language": "python",
   "name": "python3"
  },
  "language_info": {
   "codemirror_mode": {
    "name": "ipython",
    "version": 3
   },
   "file_extension": ".py",
   "mimetype": "text/x-python",
   "name": "python",
   "nbconvert_exporter": "python",
   "pygments_lexer": "ipython3",
   "version": "3.12.1"
  }
 },
 "nbformat": 4,
 "nbformat_minor": 2
}
