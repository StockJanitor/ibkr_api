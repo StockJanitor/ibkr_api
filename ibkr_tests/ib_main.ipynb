{
 "cells": [
  {
   "cell_type": "code",
   "execution_count": null,
   "metadata": {},
   "outputs": [
    {
     "name": "stdout",
     "output_type": "stream",
     "text": [
      "Connection Starts\n",
      "Error -1 2104 Market data farm connection is OK:usfarm.nj\n",
      "Error -1 2104 Market data farm connection is OK:cashfarm\n",
      "Error -1 2104 Market data farm connection is OK:usfarm\n",
      "Error -1 2106 HMDS data farm connection is OK:ushmds\n",
      "Error -1 2158 Sec-def data farm connection is OK:secdefil\n"
     ]
    },
    {
     "name": "stdout",
     "output_type": "stream",
     "text": [
      "Portfolio Update: MO, Position: 100.0, Market Price: 59.86999895\n",
      "Portfolio Update: PFE, Position: 100.0, Market Price: 24.54999925\n",
      "Portfolio Update: TSLA, Position: 100.0, Market Price: 324.8500061\n",
      "Portfolio download complete for account: DU2774079\n",
      "Error -1 2100 API client has been unsubscribed from account data.\n"
     ]
    }
   ],
   "source": [
    "from ib_client import ib_client\n",
    "import pandas as pd\n",
    "\n",
    "item = ib_client()\n",
    "\n"
   ]
  },
  {
   "cell_type": "code",
   "execution_count": null,
   "metadata": {},
   "outputs": [],
   "source": [
    "list1 = item.req_portfolio()\n",
    "df = pd.DataFrame(list1)"
   ]
  },
  {
   "cell_type": "code",
   "execution_count": 5,
   "metadata": {},
   "outputs": [
    {
     "data": {
      "text/html": [
       "<div>\n",
       "<style scoped>\n",
       "    .dataframe tbody tr th:only-of-type {\n",
       "        vertical-align: middle;\n",
       "    }\n",
       "\n",
       "    .dataframe tbody tr th {\n",
       "        vertical-align: top;\n",
       "    }\n",
       "\n",
       "    .dataframe thead th {\n",
       "        text-align: right;\n",
       "    }\n",
       "</style>\n",
       "<table border=\"1\" class=\"dataframe\">\n",
       "  <thead>\n",
       "    <tr style=\"text-align: right;\">\n",
       "      <th></th>\n",
       "      <th>symbol</th>\n",
       "      <th>sec_type</th>\n",
       "      <th>expiry</th>\n",
       "      <th>strike</th>\n",
       "      <th>right</th>\n",
       "      <th>position</th>\n",
       "      <th>market_price</th>\n",
       "      <th>market_value</th>\n",
       "      <th>average_cost</th>\n",
       "      <th>unrealized_pnl</th>\n",
       "      <th>realized_pnl</th>\n",
       "      <th>account_name</th>\n",
       "    </tr>\n",
       "  </thead>\n",
       "  <tbody>\n",
       "    <tr>\n",
       "      <th>0</th>\n",
       "      <td>MO</td>\n",
       "      <td>STK</td>\n",
       "      <td></td>\n",
       "      <td>0.0</td>\n",
       "      <td>0</td>\n",
       "      <td>100.0</td>\n",
       "      <td>59.869999</td>\n",
       "      <td>5987.0</td>\n",
       "      <td>42.95</td>\n",
       "      <td>1692.0</td>\n",
       "      <td>0.0</td>\n",
       "      <td>DU2774079</td>\n",
       "    </tr>\n",
       "    <tr>\n",
       "      <th>1</th>\n",
       "      <td>PFE</td>\n",
       "      <td>STK</td>\n",
       "      <td></td>\n",
       "      <td>0.0</td>\n",
       "      <td>0</td>\n",
       "      <td>100.0</td>\n",
       "      <td>24.549999</td>\n",
       "      <td>2455.0</td>\n",
       "      <td>28.24</td>\n",
       "      <td>-369.0</td>\n",
       "      <td>0.0</td>\n",
       "      <td>DU2774079</td>\n",
       "    </tr>\n",
       "    <tr>\n",
       "      <th>2</th>\n",
       "      <td>TSLA</td>\n",
       "      <td>STK</td>\n",
       "      <td></td>\n",
       "      <td>0.0</td>\n",
       "      <td>0</td>\n",
       "      <td>100.0</td>\n",
       "      <td>324.850006</td>\n",
       "      <td>32485.0</td>\n",
       "      <td>162.51</td>\n",
       "      <td>16234.0</td>\n",
       "      <td>0.0</td>\n",
       "      <td>DU2774079</td>\n",
       "    </tr>\n",
       "  </tbody>\n",
       "</table>\n",
       "</div>"
      ],
      "text/plain": [
       "  symbol sec_type expiry  strike right  position  market_price  market_value  \\\n",
       "0     MO      STK            0.0     0     100.0     59.869999        5987.0   \n",
       "1    PFE      STK            0.0     0     100.0     24.549999        2455.0   \n",
       "2   TSLA      STK            0.0     0     100.0    324.850006       32485.0   \n",
       "\n",
       "   average_cost  unrealized_pnl  realized_pnl account_name  \n",
       "0         42.95          1692.0           0.0    DU2774079  \n",
       "1         28.24          -369.0           0.0    DU2774079  \n",
       "2        162.51         16234.0           0.0    DU2774079  "
      ]
     },
     "execution_count": 5,
     "metadata": {},
     "output_type": "execute_result"
    }
   ],
   "source": [
    "df"
   ]
  },
  {
   "cell_type": "code",
   "execution_count": null,
   "metadata": {},
   "outputs": [],
   "source": [
    "item.close_loop()"
   ]
  }
 ],
 "metadata": {
  "kernelspec": {
   "display_name": "env_uni",
   "language": "python",
   "name": "python3"
  },
  "language_info": {
   "codemirror_mode": {
    "name": "ipython",
    "version": 3
   },
   "file_extension": ".py",
   "mimetype": "text/x-python",
   "name": "python",
   "nbconvert_exporter": "python",
   "pygments_lexer": "ipython3",
   "version": "3.13.1"
  }
 },
 "nbformat": 4,
 "nbformat_minor": 2
}
