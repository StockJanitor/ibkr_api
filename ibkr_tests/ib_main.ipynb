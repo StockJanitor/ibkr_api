{
 "cells": [
  {
   "cell_type": "code",
   "execution_count": null,
   "metadata": {},
   "outputs": [],
   "source": [
    "\n",
    "# add scripts from another folder\n",
    "import sys\n",
    "import os\n",
    "\n",
    "# Add the 'lib' directory to sys.path\n",
    "current_dir = os.getcwd()\n",
    "lib_path = os.path.abspath(os.path.join(current_dir, '..', 'ibkr_lib'))\n",
    "sys.path.append(lib_path)\n",
    "\n",
    "# import modules\n",
    "from ib_client import ib_client\n",
    "import pandas as pd\n",
    "\n",
    "# initialize item\n",
    "item = ib_client(port=7496)"
   ]
  },
  {
   "cell_type": "code",
   "execution_count": null,
   "metadata": {},
   "outputs": [],
   "source": [
    "list1 = item.req_portfolio()\n",
    "df = pd.DataFrame(list1)"
   ]
  },
  {
   "cell_type": "code",
   "execution_count": null,
   "metadata": {},
   "outputs": [],
   "source": [
    "df"
   ]
  },
  {
   "cell_type": "code",
   "execution_count": null,
   "metadata": {},
   "outputs": [],
   "source": [
    "item.close_loop()"
   ]
  },
  {
   "cell_type": "code",
   "execution_count": null,
   "metadata": {},
   "outputs": [],
   "source": [
    "df = df.fillna(\"\")\n",
    "df"
   ]
  },
  {
   "cell_type": "code",
   "execution_count": null,
   "metadata": {},
   "outputs": [],
   "source": [
    "df"
   ]
  },
  {
   "cell_type": "code",
   "execution_count": null,
   "metadata": {},
   "outputs": [],
   "source": [
    "\n",
    "df['expiry'] = pd.to_datetime(df['expiry'], format='%Y%m%d').dt.strftime('%m/%d/%Y')\n",
    "\n",
    "df_put_option = df[(df['sec_type'] == 'OPT') & (df['right'] == 'P')]\n",
    "df_call_option = df[(df['sec_type'] == 'OPT') & (df['right'] == 'C')]\n",
    "df_long_position = df[(df['sec_type'] == 'STK')]\n",
    "\n",
    "# reoder and choose correct columns\n",
    "df_put_option = df_put_option[[\"sec_type\",\"expiry\",\"symbol\",\"strike\", \"position\",\"average_cost\"]]\n",
    "df_call_option = df_call_option[[\"sec_type\",\"expiry\",\"symbol\",\"strike\", \"position\",\"average_cost\"]]\n",
    "df_long_position = df_long_position[[\"sec_type\",\"expiry\",\"symbol\",\"strike\", \"position\",\"average_cost\"]]\n",
    "# Convert to list\n",
    "list_put_option = [df_put_option.columns.tolist()] + df_put_option.values.tolist()\n",
    "list_call_option = [df_call_option.columns.tolist()] + df_call_option.values.tolist()\n",
    "list_stock = [df_long_position.columns.tolist()] + df_long_position.values.tolist()\n"
   ]
  },
  {
   "cell_type": "code",
   "execution_count": null,
   "metadata": {},
   "outputs": [],
   "source": [
    "df.fillna"
   ]
  },
  {
   "cell_type": "code",
   "execution_count": null,
   "metadata": {},
   "outputs": [],
   "source": [
    "import math\n",
    "for row in list_stock:\n",
    "    for val in row:\n",
    "        if isinstance(val, float) and (math.isnan(val) or math.isinf(val)):\n",
    "            print(f\"Found problematic value: {val}\")"
   ]
  },
  {
   "cell_type": "code",
   "execution_count": null,
   "metadata": {},
   "outputs": [],
   "source": []
  }
 ],
 "metadata": {
  "kernelspec": {
   "display_name": "env_uni",
   "language": "python",
   "name": "python3"
  },
  "language_info": {
   "codemirror_mode": {
    "name": "ipython",
    "version": 3
   },
   "file_extension": ".py",
   "mimetype": "text/x-python",
   "name": "python",
   "nbconvert_exporter": "python",
   "pygments_lexer": "ipython3",
   "version": "3.11.9"
  }
 },
 "nbformat": 4,
 "nbformat_minor": 2
}
