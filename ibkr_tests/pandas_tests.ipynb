{
 "cells": [
  {
   "cell_type": "code",
   "execution_count": null,
   "id": "729ddbbc",
   "metadata": {},
   "outputs": [],
   "source": [
    "# Define a list\n",
    "my_list = [1, 2, 3, 4, 5]\n",
    "\n",
    "# Convert the list to a string representation\n",
    "list_str = str(my_list)\n",
    "list_str"
   ]
  },
  {
   "cell_type": "code",
   "execution_count": null,
   "id": "fc197144",
   "metadata": {},
   "outputs": [],
   "source": [
    "data = {\n",
    "    \"aapl\": {\"dates\": {\"2024\": 2,\n",
    "                       \"2025\":3}, \n",
    "             \"profile\": {\"dates\": \"tech company\"}},\n",
    "\n",
    "    \"amz\": {\"item3\": {\"bid\": 7}, \n",
    "            \"item5\": {\"bid\": 8}},\n",
    "}\n",
    "if \"2026\" not in data[\"aapl\"][\"dates\"]:"
   ]
  },
  {
   "cell_type": "code",
   "execution_count": null,
   "id": "0eefa4fd",
   "metadata": {},
   "outputs": [],
   "source": [
    "import pandas as pd\n",
    "\n",
    "data = {\n",
    "    \"aapl\": {\"item1\": {\"bid\": 2}, \"item2\": {\"bid\": 3}},\n",
    "    \"amz\": {\"item3\": {\"bid\": 7}, \"item5\": {\"bid\": 8}},\n",
    "}\n",
    "\n",
    "dfs = []\n",
    "\n",
    "for company, items in data.items():\n",
    "    for item, values in items.items():\n",
    "        dfs.append(pd.DataFrame({\"company\": [company], \"item\": [item], \"bid\": [values[\"bid\"]]}))\n",
    "\n",
    "df = pd.concat(dfs, ignore_index=True)\n",
    "\n",
    "print(df)\n",
    "\n"
   ]
  },
  {
   "cell_type": "code",
   "execution_count": null,
   "id": "1fa225cf",
   "metadata": {},
   "outputs": [],
   "source": [
    "import pandas as pd\n",
    "\n",
    "data = {\n",
    "    \"aapl\": {\"item1\": {\"bid\": 2, \"ask\": 1}, \"item2\": {\"bid\": 3, \"ask\": 1}},\n",
    "    \"amz\": {\"item3\": {\"bid\": 7, \"ask\": 1}, \"item5\": {\"bid\": 8, \"ask\": 1}},\n",
    "}\n",
    "\n",
    "# Create a list of dictionaries\n",
    "dict_list = [\n",
    "    {\"company\": company, \"item\": item, \"bid\": values[\"bid\"], \"ask\": values[\"ask\"]}\n",
    "    for company, items in data.items()\n",
    "    for item, values in items.items()\n",
    "]\n",
    "\n",
    "# Convert the list of dictionaries into a DataFrame\n",
    "df = pd.DataFrame(dict_list)\n",
    "\n",
    "print(df)\n"
   ]
  },
  {
   "cell_type": "code",
   "execution_count": null,
   "id": "774b3883",
   "metadata": {},
   "outputs": [],
   "source": []
  }
 ],
 "metadata": {
  "language_info": {
   "name": "python"
  }
 },
 "nbformat": 4,
 "nbformat_minor": 5
}
